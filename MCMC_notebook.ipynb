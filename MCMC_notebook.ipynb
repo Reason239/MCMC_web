{
 "cells": [
  {
   "cell_type": "code",
   "execution_count": 1,
   "metadata": {},
   "outputs": [],
   "source": [
    "import numpy as np\n",
    "import pickle\n",
    "from collections import Counter\n",
    "import matplotlib.pyplot as plt\n",
    "from utils import clean, encrypt, get_message\n",
    "%matplotlib inline"
   ]
  },
  {
   "cell_type": "code",
   "execution_count": 3,
   "metadata": {},
   "outputs": [],
   "source": [
    "class MetropolisDecryptor:\n",
    "    def __init__(self, alphabet, m, scaling_factor=1.0, broken=False):\n",
    "\n",
    "        # Символы алфавита от более часых к менее частым. (включая пробел)\n",
    "        self.alphabet = alphabet\n",
    "\n",
    "        # \"Матрица\" переходов. Словарь, по паре символов даёт логарифм количества\n",
    "        # таких пар в тексте, на котором мы тренировались\n",
    "        self.m = m\n",
    "\n",
    "        # Из статьи. Не пригодился\n",
    "        self.scaling_factor = scaling_factor\n",
    "\n",
    "        # Если True, то принимаем только замены, увеличивающие score.\n",
    "        # То есть наивный подход к оптимизации\n",
    "        self.broken = broken\n",
    "\n",
    "        self.symbols = []\n",
    "        self.text = ''\n",
    "        self.log_score = 0\n",
    "        self.best_score = 0\n",
    "        self.map = {}              # соответствие символ -> буква или пробел\n",
    "        self.best_map = {}\n",
    "        self.accept_history = []   # булевый массив \"принимали замену или нет\"\n",
    "        self.score_history = []\n",
    "\n",
    "    def compute_score(self, cur_map):\n",
    "        \"\"\"Вычислить score текста, расшифрованоого данной cur_map\"\"\"\n",
    "        m_values = np.zeros(len(self.text) - 1, dtype=np.float64)\n",
    "        for i in range(len(self.text) - 1):\n",
    "            pair = ''.join(cur_map[ch] for ch in self.text[i:i + 2])\n",
    "            m_values[i] = self.m[pair]\n",
    "        return m_values.sum()\n",
    "\n",
    "    def start_from(self, s, stat=True):\n",
    "        \"\"\"Обработать новый текст, инициализировать параметры\n",
    "\n",
    "        s: текст\n",
    "        stat: если True, то исходное соответсвие - частым символам частые буквы\"\"\"\n",
    "\n",
    "        sym = set(s)\n",
    "        if not s:\n",
    "            print('Empty text!')\n",
    "            return False\n",
    "        if len(sym) > len(self.alphabet):\n",
    "            print(f'Too many symbols: {\"\".join(sym)}')\n",
    "            return False\n",
    "        self.text = s\n",
    "        self.symbols = sorted(list(sym))\n",
    "        if stat:\n",
    "            # Сортируем в порядке частоты в тексте\n",
    "            cnt = Counter(s)\n",
    "            self.symbols.sort(key=cnt.get, reverse=True)\n",
    "        self.map = dict(zip(self.symbols, self.alphabet))\n",
    "        self.log_score = self.compute_score(self.map)\n",
    "        self.best_map = self.map.copy()\n",
    "        self.best_score = self.log_score\n",
    "        self.accept_history = []\n",
    "        self.score_history = []\n",
    "        return True\n",
    "\n",
    "    def metropolis_step(self):\n",
    "        \"\"\"Шаг алгоритма\"\"\"\n",
    "        # Случайно выбираем два символа\n",
    "        sym1, sym2 = np.random.choice(self.symbols, 2, replace=False)\n",
    "        # Создаём новую map, где они перествалены\n",
    "        new_map = self.map.copy()\n",
    "        new_map[sym1], new_map[sym2] = new_map[sym2], new_map[sym1]\n",
    "\n",
    "        # Берём старый и новый score\n",
    "        old_score = self.log_score\n",
    "        new_score = self.compute_score(new_map)\n",
    "\n",
    "        # Усовие из алгоритма Метрополиса\n",
    "        metropolis_condition = np.log(np.random.rand()) < (new_score - old_score) * self.scaling_factor\n",
    "\n",
    "        # Принять или не принять\n",
    "        if new_score > old_score or (not self.broken and metropolis_condition):\n",
    "            self.map = new_map\n",
    "            self.log_score = new_score\n",
    "            if self.log_score > self.best_score:\n",
    "                self.best_score = self.log_score\n",
    "                self.best_map = self.map\n",
    "            self.accept_history.append(True)\n",
    "        else:\n",
    "            self.accept_history.append(False)\n",
    "        self.score_history.append(self.log_score)\n",
    "\n",
    "    def run(self, num_steps, verbose=False, print_every=100, length=100, early_stop=1000):\n",
    "        \"\"\"Сделать несколько шагов\n",
    "\n",
    "        length: какой длины выводить текст\n",
    "        early_stop: если best_score не увеличивается столько шагов, то закончить\"\"\"\n",
    "\n",
    "        if verbose:\n",
    "            print('Initial text   : ' + self.decrypt(self.map, length))\n",
    "        not_improving = 0\n",
    "        for step_num in range(num_steps):\n",
    "            old_best = self.best_score\n",
    "            self.metropolis_step()\n",
    "            if self.best_score > old_best:\n",
    "                not_improving = 0\n",
    "            else:\n",
    "                not_improving += 1\n",
    "            if not_improving == early_stop:\n",
    "                break\n",
    "            if verbose and (step_num + 1) % print_every == 0:\n",
    "                print(f'Iteration {step_num + 1:5d}: ' + self.decrypt(self.map, length))\n",
    "        if verbose:\n",
    "            print('Best score     : ' + self.decrypt(self.best_map, length))\n",
    "\n",
    "    def decrypt(self, cur_map, length=None):\n",
    "        \"\"\"Расшифровать текст данной cur_map\n",
    "\n",
    "        length: сколько начальных символов перев\"\"\"\n",
    "        return ''.join(cur_map[ch] for ch in self.text[:length])\n",
    "\n",
    "    def acc_rate(self):\n",
    "        \"\"\"Процент шагов, принвших замену\"\"\"\n",
    "        acc = np.array(self.accept_history, dtype=bool)\n",
    "        return f'{100 * acc.sum() / len(acc):.2f}%'\n",
    "\n",
    "    def final(self):\n",
    "        \"\"\"Расшифровка лучшей полученной map\"\"\"\n",
    "        return self.decrypt(self.best_map)\n",
    "\n",
    "    def plot(self):\n",
    "        \"\"\"График score по итерациям\"\"\"\n",
    "        ax = plt.gca()\n",
    "        plt.plot(self.score_history)\n",
    "        ax.set_ylabel('Score')\n",
    "        ax.set_xlabel('Iteration')\n",
    "        plt.show()"
   ]
  },
  {
   "cell_type": "code",
   "execution_count": 4,
   "metadata": {
    "pycharm": {
     "name": "#%%\n"
    }
   },
   "outputs": [],
   "source": [
    "# Возьмём расшифровщиков\n",
    "\n",
    "alphabet_ru, m_ru = pickle.load(open('models/ru.pkl', 'rb'))\n",
    "decryptor_ru = MetropolisDecryptor(alphabet_ru, m_ru)\n",
    "\n",
    "alphabet_en, m_en = pickle.load(open('models/en.pkl', 'rb'))\n",
    "decryptor_en = MetropolisDecryptor(alphabet_en, m_en)"
   ]
  },
  {
   "cell_type": "markdown",
   "metadata": {},
   "source": [
    "#### Варианты для текстов:\n",
    "\n",
    "* каренина - 9739\n",
    "* поттер - 3786\n",
    "* гамлет - 1159\n",
    "* тютчев - 438\n",
    "\n",
    "\n",
    "\n",
    "* warpeace - 10912\n",
    "* synthesis - 2236\n",
    "* hamlet - 1434\n",
    "* dylan - 833\n"
   ]
  },
  {
   "cell_type": "code",
   "execution_count": 128,
   "metadata": {},
   "outputs": [
    {
     "name": "stdout",
     "output_type": "stream",
     "text": [
      "быть или не быть вот в чём вопрос достойно ль смиряться под ударами судьбы иль н\n",
      "⊃⊢⊥⊪∉∀ℤ∀∉≭⨖∉⊃⊢⊥⊪∉⨒⊂⊥∉⨒∉⊯⊭∌∉⨒⊂⊩⊣⊂⊠∉⋫⊂⊠⊥⊂∈≭⊂∉ℤ⊪∉⊠∌∀⊣⊲⊥⊪⊠⊲∉⊩⊂⋫∉⋬⋫≿⊣≿∌∀∉⊠⋬⋫⊪⊃⊢∉∀ℤ⊪∉≭\n"
     ]
    }
   ],
   "source": [
    "# Возьмём сообщение\n",
    "\n",
    "initial, encrypted = get_message('гамлет', 300)\n",
    "\n",
    "print(initial[:80])\n",
    "print(encrypted[:80])"
   ]
  },
  {
   "cell_type": "code",
   "execution_count": 176,
   "metadata": {},
   "outputs": [
    {
     "name": "stdout",
     "output_type": "stream",
     "text": [
      "мдит ере са мдит уои у ьэв уоякон пониочсо рт нвекыитны яоп гплклве нгптмд ерт с\n"
     ]
    }
   ],
   "source": [
    "# Настроим расшифровщик\n",
    "\n",
    "decryptor = decryptor_ru\n",
    "\n",
    "decryptor.broken = False\n",
    "decryptor.scaling_factor = 0.5\n",
    "\n",
    "# Изначальное соответствие символ -> буква\n",
    "\n",
    "decryptor.start_from(initial, stat=True)\n",
    "print(decryptor.final()[:80])"
   ]
  },
  {
   "cell_type": "code",
   "execution_count": 177,
   "metadata": {},
   "outputs": [
    {
     "name": "stdout",
     "output_type": "stream",
     "text": [
      "Initial text   : мдит ере са мдит уои у ьэв уоякон пониочсо рт нвекыитны яоп гплклве нгптмд ерт с\n",
      "Iteration  1000: гуто иди не гуто лат л чюс лакрав мавтайна до всирытовы кам ьмяряси вьмогу идо н\n",
      "Iteration  2000: гуто иди не гуто ват в чюл вакрас мастайна до слирьтось кам ямырыли сямогу идо н\n",
      "Iteration  3000: чута ими не чута вот в дюл вогрос зостойно ма слирьтась гоз язырыли сязачу има н\n",
      "Iteration  4000: пута изи не пута вот в кюл вогрос мостойно за слирьтась гом ямырыли сямапу иза н\n",
      "Iteration  5000: быту ими не быту вот в дюл вопрос гостойно му слирьтусь пог ягарали сягубы иму н\n",
      "Iteration  6000: быть иди не быть вот в кюл вопрос гостойно дь слирутьсу пог ягарали сягьбы идь н\n",
      "Iteration  7000: быть иди не быть вот в гшл вопрос мостойно дь слиряться пом умарали сумьбы идь н\n",
      "Iteration  8000: быть иди не быть вот в чюм вопрос гостойно дь смиряться пог угарами сугьбы идь н\n",
      "Iteration  9000: быть иди не быть вот в гюл вопрос мостойно дь слиряться пом умарали сумьбы идь н\n",
      "Iteration 10000: быть или не быть вот в чюм вопрос достойно ль смиряться под ударами судьбы иль н\n",
      "Iteration 11000: быть или не быть кот к дюм копрос гостойно ль смиряться пог угарами сугьбы иль н\n",
      "Iteration 12000: быть или не быть кот к дюм копрос гостойно ль смиряться пог угарами сугьбы иль н\n",
      "Iteration 13000: быть или не быть вот в гюм вопрос достойно ль смиряться под ударами судьбы иль н\n",
      "Iteration 14000: быть или не быть вот в гюм вопрос достойно ль смиряться под ударами судьбы иль н\n",
      "Iteration 15000: быть или не быть вот в чюм вопрос достойно ль смиряться под ударами судьбы иль н\n",
      "Iteration 16000: быть или не быть вот в дюм вопрос гостойно ль смиряться пог угарами сугьбы иль н\n",
      "Iteration 17000: быть или не быть вот в дюм вопрос костойно ль смиряться пок укарами сукьбы иль н\n",
      "Iteration 18000: быть или не быть вот в дцм вопрос костойно ль смиряться пок укарами сукьбы иль н\n",
      "Iteration 19000: быть или не быть кот к дюм копрос гостохно ль смиряться пог угарами сугьбы иль н\n",
      "Iteration 20000: быть или не быть кот к дшм копрос гостойно ль смиряться пог угарами сугьбы иль н\n",
      "Iteration 21000: быть или не быть вот в кюм вопрос достойно ль смиряться под ударами судьбы иль н\n",
      "Iteration 22000: быть или не быть вот в дюм вопрос гостойно ль смиряться пог угарами сугьбы иль н\n",
      "Iteration 23000: быть или не быть вот в дюм вопрос гостойно ль смиряться пог угарами сугьбы иль н\n",
      "Iteration 24000: быть или не быть вот в гюм вопрос достойно ль смиряться под ударами судьбы иль н\n",
      "Iteration 25000: быть или не быть кот к гюм копрос достойно ль смиряться под ударами судьбы иль н\n",
      "Iteration 26000: быть или не быть вот в дюм вопрос гостойно ль смиряться пог угарами сугьбы иль н\n",
      "Iteration 27000: быть или не быть вот в гюм вопрос достойно ль смиряться под ударами судьбы иль н\n",
      "Iteration 28000: быть или не быть кот к дюм копрос гостойно ль смиряться пог угарами сугьбы иль н\n",
      "Iteration 29000: быть или не быть вот в дюм вопрос гостойно ль смиряться пог угарами сугьбы иль н\n",
      "Iteration 30000: быть или не быть вот в дюм вопрос гостойно ль смиряться пог угарами сугьбы иль н\n",
      "Iteration 31000: быть или не быть вот в кюм вопрос достойно ль смиряться под ударами судьбы иль н\n",
      "Iteration 32000: быть или не быть вот в дюм вопрос гостойно ль смиряться пог угарами сугьбы иль н\n",
      "Iteration 33000: быть или не быть кот к дхм копрос гостоюно ль смиряться пог угарами сугьбы иль н\n",
      "Iteration 34000: быть или не быть мот м дцк мопрос гостойно ль скиряться пог угараки сугьбы иль н\n",
      "Iteration 35000: быть или не быть гот г дюм гопрос востойно ль смиряться пов уварами сувьбы иль н\n",
      "Iteration 36000: быть или не быть вот в дюм вопрос зостойно ль смиряться поз узарами сузьбы иль н\n",
      "Iteration 37000: быть или не быть вот в дюм вопрос гостойно ль смиряться пог угарами сугьбы иль н\n",
      "Iteration 38000: быть или не быть кот к дюм копрос востойно ль смиряться пов уварами сувьбы иль н\n",
      "Iteration 39000: быть оло не быть ват в дюм вапрас жастайна ль сморяться паж ужиримо сужьбы оль н\n",
      "Iteration 40000: быть или не быть вот в кюм вопрос достойно ль смиряться под ударами судьбы иль н\n",
      "Iteration 41000: быть или не быть вот в чюм вопрос достойно ль смиряться под ударами судьбы иль н\n",
      "Iteration 42000: быть или не быть вот в чюм водрос гостойно ль смиряться дог угарами сугьбы иль н\n",
      "Iteration 43000: быть или не быть кот к чшм копрос достойно ль смиряться под ударами судьбы иль н\n",
      "Iteration 44000: быть или не быть вот в чюм вопрос достойно ль смиряться под ударами судьбы иль н\n",
      "Iteration 45000: быть или не быть гот г дюм гопрос востойно ль смиряться пов уварами сувьбы иль н\n",
      "Iteration 46000: быть или не быть вот в дюк вопрос гостойно ль скиряться пог угараки сугьбы иль н\n",
      "Iteration 47000: быть или не быть вот в дюм вопрос гостойно ль смиряться пог угарами сугьбы иль н\n",
      "Iteration 48000: быть или не быть вот в дюм вопрос гостойно ль смиряться пог угарами сугьбы иль н\n",
      "Iteration 49000: быть или не быть вот в гюм вопрос достойно ль смиряться под ударами судьбы иль н\n",
      "Iteration 50000: быть или не быть вот в дюм вопрос гостойно ль смиряться пог угарами сугьбы иль н\n",
      "Best score     : быть или не быть вот в дюм вопрос гостойно ль смиряться пог угарами сугьбы иль н\n"
     ]
    }
   ],
   "source": [
    "# Запустим расшифровщик\n",
    "\n",
    "decryptor.run(50000, verbose=True, print_every=1000, length=80, early_stop=None)"
   ]
  },
  {
   "cell_type": "code",
   "execution_count": 178,
   "metadata": {},
   "outputs": [
    {
     "name": "stdout",
     "output_type": "stream",
     "text": [
      "быть или не быть вот в дюм вопрос гостойно ль смиряться пог угарами сугьбы иль наго оказать сопротивленье и в смертной схватке с челым морем бег покондить с ними умереть забыться и знать дто этим обрываешь чепь сергедных мук и тысяди лишений присужих телу это ли не чель целанная скондаться сном забы\n"
     ]
    }
   ],
   "source": [
    "# Лучший результат\n",
    "\n",
    "print(decryptor.final())"
   ]
  },
  {
   "cell_type": "code",
   "execution_count": 179,
   "metadata": {},
   "outputs": [
    {
     "name": "stdout",
     "output_type": "stream",
     "text": [
      "1.29%\n"
     ]
    }
   ],
   "source": [
    "# Доля принятых замен\n",
    "\n",
    "print(decryptor.acc_rate())"
   ]
  },
  {
   "cell_type": "code",
   "execution_count": 180,
   "metadata": {},
   "outputs": [
    {
     "data": {
      "image/png": "[encoded data removed]",
      "text/plain": [
       "<Figure size 432x288 with 1 Axes>"
      ]
     },
     "metadata": {
      "needs_background": "light"
     },
     "output_type": "display_data"
    }
   ],
   "source": [
    "# История score\n",
    "\n",
    "decryptor.plot()"
   ]
  },
  {
   "cell_type": "code",
   "execution_count": null,
   "metadata": {},
   "outputs": [],
   "source": []
  },
  {
   "cell_type": "code",
   "execution_count": null,
   "metadata": {},
   "outputs": [],
   "source": []
  },
  {
   "cell_type": "code",
   "execution_count": null,
   "metadata": {},
   "outputs": [],
   "source": []
  }
 ],
 "metadata": {
  "kernelspec": {
   "display_name": "Python 3",
   "language": "python",
   "name": "python3"
  },
  "language_info": {
   "codemirror_mode": {
    "name": "ipython",
    "version": 3
   },
   "file_extension": ".py",
   "mimetype": "text/x-python",
   "name": "python",
   "nbconvert_exporter": "python",
   "pygments_lexer": "ipython3",
   "version": "3.7.3"
  }
 },
 "nbformat": 4,
 "nbformat_minor": 4
}
